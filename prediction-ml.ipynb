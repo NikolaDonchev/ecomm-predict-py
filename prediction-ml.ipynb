{
 "cells": [
  {
   "cell_type": "code",
   "execution_count": 373,
   "metadata": {},
   "outputs": [],
   "source": [
    "import time\n",
    "import numpy as np\n",
    "import pandas as pd\n",
    "import turicreate as tc\n",
    "import mysql.connector as db\n",
    "from sklearn.model_selection import train_test_split\n",
    "\n",
    "import matplotlib.pyplot as plt"
   ]
  },
  {
   "cell_type": "code",
   "execution_count": 356,
   "metadata": {},
   "outputs": [],
   "source": [
    "mydb = db.connect(\n",
    "  host = \"localhost\",\n",
    "  user = \"root\",\n",
    "  passwd = \"\",\n",
    "  database = \"ecomm_ml\"\n",
    ")\n",
    "\n",
    "lineItems = mydb.cursor()\n",
    "lineItems.execute(\"SELECT `customer_id`, `product_id`, `quantity` FROM line_items\")\n",
    "lineItems = lineItems.fetchall()\n",
    "\n",
    "customers = mydb.cursor()\n",
    "customers.execute(\"SELECT `id` from `customers`\")\n",
    "customers = customers.fetchall()"
   ]
  },
  {
   "cell_type": "code",
   "execution_count": 357,
   "metadata": {},
   "outputs": [],
   "source": [
    "lineItems = pd.DataFrame(lineItems,\n",
    "                         columns=['customer_id', 'product_id', 'quantity'])"
   ]
  },
  {
   "cell_type": "code",
   "execution_count": 371,
   "metadata": {},
   "outputs": [],
   "source": [
    "customers_list = []\n",
    "for i in customers:\n",
    "    customers_list.append(i[0])"
   ]
  },
  {
   "cell_type": "code",
   "execution_count": 366,
   "metadata": {},
   "outputs": [],
   "source": [
    "# print(lineItems.shape)\n",
    "# lineItems.head(15)"
   ]
  },
  {
   "cell_type": "code",
   "execution_count": 365,
   "metadata": {},
   "outputs": [
    {
     "data": {
      "text/html": [
       "<div>\n",
       "<style scoped>\n",
       "    .dataframe tbody tr th:only-of-type {\n",
       "        vertical-align: middle;\n",
       "    }\n",
       "\n",
       "    .dataframe tbody tr th {\n",
       "        vertical-align: top;\n",
       "    }\n",
       "\n",
       "    .dataframe thead th {\n",
       "        text-align: right;\n",
       "    }\n",
       "</style>\n",
       "<table border=\"1\" class=\"dataframe\">\n",
       "  <thead>\n",
       "    <tr style=\"text-align: right;\">\n",
       "      <th></th>\n",
       "      <th>customer_id</th>\n",
       "      <th>product_id</th>\n",
       "      <th>quantity</th>\n",
       "    </tr>\n",
       "  </thead>\n",
       "  <tbody>\n",
       "    <tr>\n",
       "      <th>0</th>\n",
       "      <td>1</td>\n",
       "      <td>1466095829091</td>\n",
       "      <td>1</td>\n",
       "    </tr>\n",
       "    <tr>\n",
       "      <th>1</th>\n",
       "      <td>1</td>\n",
       "      <td>1466095960163</td>\n",
       "      <td>1</td>\n",
       "    </tr>\n",
       "    <tr>\n",
       "      <th>2</th>\n",
       "      <td>1</td>\n",
       "      <td>1466096189539</td>\n",
       "      <td>1</td>\n",
       "    </tr>\n",
       "    <tr>\n",
       "      <th>3</th>\n",
       "      <td>2</td>\n",
       "      <td>1466095894627</td>\n",
       "      <td>1</td>\n",
       "    </tr>\n",
       "    <tr>\n",
       "      <th>4</th>\n",
       "      <td>2</td>\n",
       "      <td>1466095960163</td>\n",
       "      <td>1</td>\n",
       "    </tr>\n",
       "    <tr>\n",
       "      <th>5</th>\n",
       "      <td>3</td>\n",
       "      <td>1466095829091</td>\n",
       "      <td>2</td>\n",
       "    </tr>\n",
       "    <tr>\n",
       "      <th>6</th>\n",
       "      <td>4</td>\n",
       "      <td>1466095861859</td>\n",
       "      <td>3</td>\n",
       "    </tr>\n",
       "    <tr>\n",
       "      <th>7</th>\n",
       "      <td>4</td>\n",
       "      <td>1466095894627</td>\n",
       "      <td>1</td>\n",
       "    </tr>\n",
       "    <tr>\n",
       "      <th>8</th>\n",
       "      <td>4</td>\n",
       "      <td>1466095927395</td>\n",
       "      <td>2</td>\n",
       "    </tr>\n",
       "    <tr>\n",
       "      <th>9</th>\n",
       "      <td>4</td>\n",
       "      <td>1466096418915</td>\n",
       "      <td>1</td>\n",
       "    </tr>\n",
       "    <tr>\n",
       "      <th>10</th>\n",
       "      <td>4</td>\n",
       "      <td>1466096451683</td>\n",
       "      <td>1</td>\n",
       "    </tr>\n",
       "    <tr>\n",
       "      <th>11</th>\n",
       "      <td>4</td>\n",
       "      <td>15486872454</td>\n",
       "      <td>1</td>\n",
       "    </tr>\n",
       "    <tr>\n",
       "      <th>12</th>\n",
       "      <td>4</td>\n",
       "      <td>15571182086</td>\n",
       "      <td>1</td>\n",
       "    </tr>\n",
       "    <tr>\n",
       "      <th>13</th>\n",
       "      <td>5</td>\n",
       "      <td>1466318520419</td>\n",
       "      <td>3</td>\n",
       "    </tr>\n",
       "    <tr>\n",
       "      <th>14</th>\n",
       "      <td>6</td>\n",
       "      <td>1466095960163</td>\n",
       "      <td>4</td>\n",
       "    </tr>\n",
       "  </tbody>\n",
       "</table>\n",
       "</div>"
      ],
      "text/plain": [
       "    customer_id     product_id  quantity\n",
       "0             1  1466095829091         1\n",
       "1             1  1466095960163         1\n",
       "2             1  1466096189539         1\n",
       "3             2  1466095894627         1\n",
       "4             2  1466095960163         1\n",
       "5             3  1466095829091         2\n",
       "6             4  1466095861859         3\n",
       "7             4  1466095894627         1\n",
       "8             4  1466095927395         2\n",
       "9             4  1466096418915         1\n",
       "10            4  1466096451683         1\n",
       "11            4    15486872454         1\n",
       "12            4    15571182086         1\n",
       "13            5  1466318520419         3\n",
       "14            6  1466095960163         4"
      ]
     },
     "execution_count": 365,
     "metadata": {},
     "output_type": "execute_result"
    }
   ],
   "source": [
    "lineItems = lineItems.groupby(['customer_id', 'product_id'],\n",
    "                             as_index=False)['quantity'].sum()\n",
    "lineItems.head(15)"
   ]
  },
  {
   "cell_type": "code",
   "execution_count": 280,
   "metadata": {},
   "outputs": [],
   "source": [
    "# matrix = pd.pivot_table(newItems, values='quantity', index='customer_id', columns='product_id')\n",
    "# print(matrix.shape)\n",
    "# matrix.head()"
   ]
  },
  {
   "cell_type": "code",
   "execution_count": 278,
   "metadata": {},
   "outputs": [],
   "source": [
    "# https://stats.stackexchange.com/questions/70801/how-to-normalize-data-to-0-1-range\n",
    "# matrix_norm = (matrix-matrix.min())/(matrix.max()-matrix.min())\n",
    "# print(matrix_norm.shape)\n",
    "# matrix_norm.head()"
   ]
  },
  {
   "cell_type": "code",
   "execution_count": 274,
   "metadata": {},
   "outputs": [],
   "source": [
    "# d = matrix_norm.reset_index()\n",
    "# d.index.names = ['something_new']\n",
    "# data_norm = pd.melt(d, id_vars=['customer_id'], value_name='something_new').dropna()\n",
    "# print(data_norm.shape)\n",
    "# data_norm.head(80)"
   ]
  },
  {
   "cell_type": "code",
   "execution_count": 281,
   "metadata": {},
   "outputs": [
    {
     "name": "stdout",
     "output_type": "stream",
     "text": [
      "(11297, 3) (2825, 3)\n"
     ]
    }
   ],
   "source": [
    "train, test = train_test_split(lineItems, test_size = .2)\n",
    "print(train.shape, test.shape)"
   ]
  },
  {
   "cell_type": "code",
   "execution_count": 282,
   "metadata": {},
   "outputs": [],
   "source": [
    "train_data = tc.SFrame(train)\n",
    "test_data = tc.SFrame(test)"
   ]
  },
  {
   "cell_type": "code",
   "execution_count": 369,
   "metadata": {},
   "outputs": [],
   "source": [
    "# train_data"
   ]
  },
  {
   "cell_type": "code",
   "execution_count": 370,
   "metadata": {},
   "outputs": [],
   "source": [
    "# test_data"
   ]
  },
  {
   "cell_type": "code",
   "execution_count": 351,
   "metadata": {},
   "outputs": [
    {
     "data": {
      "text/html": [
       "<pre>Preparing data set.</pre>"
      ],
      "text/plain": [
       "Preparing data set."
      ]
     },
     "metadata": {},
     "output_type": "display_data"
    },
    {
     "data": {
      "text/html": [
       "<pre>    Data has 11297 observations with 7324 users and 25 items.</pre>"
      ],
      "text/plain": [
       "    Data has 11297 observations with 7324 users and 25 items."
      ]
     },
     "metadata": {},
     "output_type": "display_data"
    },
    {
     "data": {
      "text/html": [
       "<pre>    Data prepared in: 0.047193s</pre>"
      ],
      "text/plain": [
       "    Data prepared in: 0.047193s"
      ]
     },
     "metadata": {},
     "output_type": "display_data"
    },
    {
     "data": {
      "text/html": [
       "<pre>11297 observations to process; with 25 unique items.</pre>"
      ],
      "text/plain": [
       "11297 observations to process; with 25 unique items."
      ]
     },
     "metadata": {},
     "output_type": "display_data"
    }
   ],
   "source": [
    "popularity_model = tc.popularity_recommender.create(train_data,\n",
    "                                                    user_id=\"customer_id\",\n",
    "                                                    item_id=\"product_id\",\n",
    "                                                    target=\"quantity\")"
   ]
  },
  {
   "cell_type": "code",
   "execution_count": 375,
   "metadata": {},
   "outputs": [
    {
     "data": {
      "text/html": [
       "<pre>recommendations finished on 1000/9265 queries. users per second: 104537</pre>"
      ],
      "text/plain": [
       "recommendations finished on 1000/9265 queries. users per second: 104537"
      ]
     },
     "metadata": {},
     "output_type": "display_data"
    },
    {
     "data": {
      "text/html": [
       "<pre>recommendations finished on 2000/9265 queries. users per second: 178747</pre>"
      ],
      "text/plain": [
       "recommendations finished on 2000/9265 queries. users per second: 178747"
      ]
     },
     "metadata": {},
     "output_type": "display_data"
    },
    {
     "data": {
      "text/html": [
       "<pre>recommendations finished on 3000/9265 queries. users per second: 212089</pre>"
      ],
      "text/plain": [
       "recommendations finished on 3000/9265 queries. users per second: 212089"
      ]
     },
     "metadata": {},
     "output_type": "display_data"
    },
    {
     "data": {
      "text/html": [
       "<pre>recommendations finished on 4000/9265 queries. users per second: 244828</pre>"
      ],
      "text/plain": [
       "recommendations finished on 4000/9265 queries. users per second: 244828"
      ]
     },
     "metadata": {},
     "output_type": "display_data"
    },
    {
     "data": {
      "text/html": [
       "<pre>recommendations finished on 5000/9265 queries. users per second: 269411</pre>"
      ],
      "text/plain": [
       "recommendations finished on 5000/9265 queries. users per second: 269411"
      ]
     },
     "metadata": {},
     "output_type": "display_data"
    },
    {
     "data": {
      "text/html": [
       "<pre>recommendations finished on 6000/9265 queries. users per second: 242591</pre>"
      ],
      "text/plain": [
       "recommendations finished on 6000/9265 queries. users per second: 242591"
      ]
     },
     "metadata": {},
     "output_type": "display_data"
    },
    {
     "data": {
      "text/html": [
       "<pre>recommendations finished on 7000/9265 queries. users per second: 255596</pre>"
      ],
      "text/plain": [
       "recommendations finished on 7000/9265 queries. users per second: 255596"
      ]
     },
     "metadata": {},
     "output_type": "display_data"
    },
    {
     "data": {
      "text/html": [
       "<pre>recommendations finished on 8000/9265 queries. users per second: 272647</pre>"
      ],
      "text/plain": [
       "recommendations finished on 8000/9265 queries. users per second: 272647"
      ]
     },
     "metadata": {},
     "output_type": "display_data"
    },
    {
     "data": {
      "text/html": [
       "<pre>recommendations finished on 9000/9265 queries. users per second: 283786</pre>"
      ],
      "text/plain": [
       "recommendations finished on 9000/9265 queries. users per second: 283786"
      ]
     },
     "metadata": {},
     "output_type": "display_data"
    }
   ],
   "source": [
    "popularity_recommendations = popularity_model.recommend(users=customers_list,\n",
    "                                                       k=25)"
   ]
  },
  {
   "cell_type": "code",
   "execution_count": 376,
   "metadata": {
    "scrolled": true
   },
   "outputs": [
    {
     "name": "stdout",
     "output_type": "stream",
     "text": [
      "+-------------+---------------+--------------------+------+\n",
      "| customer_id |   product_id  |       score        | rank |\n",
      "+-------------+---------------+--------------------+------+\n",
      "|      1      | 1466318520419 | 2.202797202797203  |  1   |\n",
      "|      1      | 1466096451683 | 1.9411764705882353 |  2   |\n",
      "|      1      | 1466095894627 | 1.7065637065637065 |  3   |\n",
      "|      1      | 1466096418915 | 1.7007874015748032 |  4   |\n",
      "|      1      | 1466095927395 | 1.6109979633401221 |  5   |\n",
      "|      1      | 1466096189539 | 1.5442715700141443 |  6   |\n",
      "|      1      | 1466096255075 | 1.411764705882353  |  7   |\n",
      "|      1      | 1466096353379 | 1.3066666666666666 |  8   |\n",
      "|      1      | 1466096386147 | 1.3048780487804879 |  9   |\n",
      "|      1      | 1466096320611 | 1.2489082969432315 |  10  |\n",
      "|      1      | 1466095829091 | 1.2045769764216365 |  11  |\n",
      "|      1      | 1466095861859 | 1.1765350877192982 |  12  |\n",
      "|      1      | 1466096287843 | 1.1466666666666667 |  13  |\n",
      "|      1      |  15571187078  | 1.108695652173913  |  14  |\n",
      "|      1      | 1239867981830 | 1.098360655737705  |  15  |\n",
      "|      1      |  33141363974  |      1.09375       |  16  |\n",
      "|      1      |   9672299203  | 1.0588235294117647 |  17  |\n",
      "|      1      |  11525025414  | 1.056338028169014  |  18  |\n",
      "|      1      |  15486872454  | 1.0512820512820513 |  19  |\n",
      "|      1      |  15571182086  | 1.0458715596330275 |  20  |\n",
      "|      1      |  33141385926  | 1.0357142857142858 |  21  |\n",
      "|      1      |   9672405955  | 1.0285714285714285 |  22  |\n",
      "|      1      |  844580651014 | 1.0266666666666666 |  23  |\n",
      "|      1      |   9672385859  |        1.0         |  24  |\n",
      "|      2      | 1466318520419 | 2.202797202797203  |  1   |\n",
      "|      2      | 1466096451683 | 1.9411764705882353 |  2   |\n",
      "|      2      | 1466095894627 | 1.7065637065637065 |  3   |\n",
      "|      2      | 1466096418915 | 1.7007874015748032 |  4   |\n",
      "|      2      | 1466095927395 | 1.6109979633401221 |  5   |\n",
      "|      2      | 1466096189539 | 1.5442715700141443 |  6   |\n",
      "|      2      | 1466096255075 | 1.411764705882353  |  7   |\n",
      "|      2      | 1466096353379 | 1.3066666666666666 |  8   |\n",
      "|      2      | 1466096386147 | 1.3048780487804879 |  9   |\n",
      "|      2      | 1466096320611 | 1.2489082969432315 |  10  |\n",
      "|      2      | 1466095829091 | 1.2045769764216365 |  11  |\n",
      "|      2      | 1466095861859 | 1.1765350877192982 |  12  |\n",
      "|      2      | 1466096287843 | 1.1466666666666667 |  13  |\n",
      "|      2      |  15571187078  | 1.108695652173913  |  14  |\n",
      "|      2      | 1239867981830 | 1.098360655737705  |  15  |\n",
      "|      2      |  33141363974  |      1.09375       |  16  |\n",
      "|      2      |   9672299203  | 1.0588235294117647 |  17  |\n",
      "|      2      |  11525025414  | 1.056338028169014  |  18  |\n",
      "|      2      |  15486872454  | 1.0512820512820513 |  19  |\n",
      "|      2      |  15571182086  | 1.0458715596330275 |  20  |\n",
      "|      2      |  33141385926  | 1.0357142857142858 |  21  |\n",
      "|      2      |   9672405955  | 1.0285714285714285 |  22  |\n",
      "|      2      |  844580651014 | 1.0266666666666666 |  23  |\n",
      "|      2      |   9672385859  |        1.0         |  24  |\n",
      "|      3      | 1466318520419 | 2.202797202797203  |  1   |\n",
      "|      3      | 1466096451683 | 1.9411764705882353 |  2   |\n",
      "+-------------+---------------+--------------------+------+\n",
      "[220328 rows x 4 columns]\n",
      "\n"
     ]
    }
   ],
   "source": [
    "popularity_recommendations.print_rows(50)"
   ]
  },
  {
   "cell_type": "code",
   "execution_count": null,
   "metadata": {},
   "outputs": [],
   "source": []
  }
 ],
 "metadata": {
  "kernelspec": {
   "display_name": "Python 3",
   "language": "python",
   "name": "python3"
  },
  "language_info": {
   "codemirror_mode": {
    "name": "ipython",
    "version": 3
   },
   "file_extension": ".py",
   "mimetype": "text/x-python",
   "name": "python",
   "nbconvert_exporter": "python",
   "pygments_lexer": "ipython3",
   "version": "3.6.8"
  }
 },
 "nbformat": 4,
 "nbformat_minor": 2
}
