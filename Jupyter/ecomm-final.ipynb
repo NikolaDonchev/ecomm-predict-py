{
 "cells": [
  {
   "cell_type": "code",
   "execution_count": 1,
   "metadata": {},
   "outputs": [],
   "source": [
    "import pandas as pd\n",
    "import turicreate as tc\n",
    "import mysql.connector as db\n",
    "from sklearn.model_selection import train_test_split"
   ]
  },
  {
   "cell_type": "code",
   "execution_count": 56,
   "metadata": {},
   "outputs": [],
   "source": [
    "mydb = db.connect(\n",
    "  host = \"localhost\",\n",
    "  user = \"root\",\n",
    "  passwd = \"\",\n",
    "  database = \"ecomm_ml\"\n",
    ")\n",
    "\n",
    "lineItems = mydb.cursor()\n",
    "lineItems.execute(\"SELECT `customer_id`, `product_id`, `quantity` FROM line_items\")\n",
    "lineItems = lineItems.fetchall()\n",
    "\n",
    "customers = mydb.cursor()\n",
    "customers.execute(\"SELECT `id` from `customers`\")\n",
    "customers = customers.fetchall()"
   ]
  },
  {
   "cell_type": "code",
   "execution_count": 57,
   "metadata": {},
   "outputs": [],
   "source": [
    "lineItems = pd.DataFrame(lineItems,\n",
    "                         columns=['customer_id', 'product_id', 'quantity'])"
   ]
  },
  {
   "cell_type": "code",
   "execution_count": 58,
   "metadata": {},
   "outputs": [],
   "source": [
    "customers_list = []\n",
    "for i in customers:\n",
    "    customers_list.append(i[0])"
   ]
  },
  {
   "cell_type": "code",
   "execution_count": 59,
   "metadata": {},
   "outputs": [],
   "source": [
    "def const_quantity(data):\n",
    "    '''\n",
    "    The constant data had to be created\n",
    "    to be able to run RMSE tests\n",
    "    :param data:\n",
    "    :return data:\n",
    "    '''\n",
    "    data['quantity_one'] = 1\n",
    "    return data"
   ]
  },
  {
   "cell_type": "code",
   "execution_count": 60,
   "metadata": {},
   "outputs": [],
   "source": [
    "lineItems = lineItems.groupby(['customer_id', 'product_id'],\n",
    "                              as_index=False)['quantity'].sum()"
   ]
  },
  {
   "cell_type": "code",
   "execution_count": 61,
   "metadata": {},
   "outputs": [],
   "source": [
    "lineItemsConst = const_quantity(lineItems)"
   ]
  },
  {
   "cell_type": "code",
   "execution_count": 62,
   "metadata": {},
   "outputs": [],
   "source": [
    "lineItemsFrame = tc.SFrame(lineItems)\n",
    "lineItemsConstFrame = tc.SFrame(lineItemsConst)"
   ]
  },
  {
   "cell_type": "code",
   "execution_count": 63,
   "metadata": {},
   "outputs": [
    {
     "name": "stdout",
     "output_type": "stream",
     "text": [
      "+-------------+---------------+--------+------+\n",
      "| customer_id |   product_id  | score  | rank |\n",
      "+-------------+---------------+--------+------+\n",
      "|      1      | 1466095861859 | 1122.0 |  1   |\n",
      "|      1      | 1466095894627 | 944.0  |  2   |\n",
      "|      1      | 1466096386147 | 603.0  |  3   |\n",
      "|      2      | 1466096189539 | 4427.0 |  1   |\n",
      "|      2      | 1466095829091 | 1824.0 |  2   |\n",
      "|      2      | 1466095861859 | 1122.0 |  3   |\n",
      "|      3      | 1466096189539 | 4427.0 |  1   |\n",
      "|      3      | 1466095960163 | 2002.0 |  2   |\n",
      "|      3      | 1466095861859 | 1122.0 |  3   |\n",
      "|      4      | 1466096189539 | 4427.0 |  1   |\n",
      "|      4      | 1466095960163 | 2002.0 |  2   |\n",
      "|      4      | 1466095829091 | 1824.0 |  3   |\n",
      "|      5      | 1466096189539 | 4427.0 |  1   |\n",
      "|      5      | 1466095960163 | 2002.0 |  2   |\n",
      "|      5      | 1466095829091 | 1824.0 |  3   |\n",
      "|      6      | 1466096189539 | 4427.0 |  1   |\n",
      "|      6      | 1466095829091 | 1824.0 |  2   |\n",
      "|      6      | 1466095861859 | 1122.0 |  3   |\n",
      "|      7      | 1466095960163 | 2002.0 |  1   |\n",
      "|      7      | 1466095829091 | 1824.0 |  2   |\n",
      "+-------------+---------------+--------+------+\n",
      "[27795 rows x 4 columns]\n",
      "\n"
     ]
    }
   ],
   "source": [
    "popularity_model = tc.popularity_recommender.create(lineItemsFrame,\n",
    "                                                    user_id=\"customer_id\",\n",
    "                                                    item_id=\"product_id\",\n",
    "                                                    verbose=False)\n",
    "popularity_recommendations = popularity_model.recommend(users=customers_list,\n",
    "                                                        k=3,\n",
    "                                                        verbose=False)\n",
    "popularity_recommendations.print_rows(20)"
   ]
  },
  {
   "cell_type": "code",
   "execution_count": 64,
   "metadata": {},
   "outputs": [
    {
     "name": "stdout",
     "output_type": "stream",
     "text": [
      "+-------------+---------------+----------------------+------+\n",
      "| customer_id |   product_id  |        score         | rank |\n",
      "+-------------+---------------+----------------------+------+\n",
      "|      1      | 1466095861859 |  0.2105178435643514  |  1   |\n",
      "|      1      | 1466095894627 |  0.0936524470647176  |  2   |\n",
      "|      1      | 1466095927395 | 0.07460953791936238  |  3   |\n",
      "|      2      | 1466096189539 |  0.2571062743663788  |  1   |\n",
      "|      2      | 1466095829091 | 0.16636976599693298  |  2   |\n",
      "|      2      | 1466095861859 | 0.14751386642456055  |  3   |\n",
      "|      3      | 1466096189539 | 0.34698420763015747  |  1   |\n",
      "|      3      | 1466095960163 | 0.24281388521194458  |  2   |\n",
      "|      3      | 1466095861859 |  0.1859399676322937  |  3   |\n",
      "|      4      | 1466096189539 | 0.10062533617019653  |  1   |\n",
      "|      4      | 1466095829091 | 0.06592704568590436  |  2   |\n",
      "|      4      | 1466095960163 | 0.06365778616496495  |  3   |\n",
      "|      5      | 1239867981830 | 0.024802684783935547 |  1   |\n",
      "|      5      |  11525025414  | 0.01612168550491333  |  2   |\n",
      "|      5      | 1466096451683 | 0.014983177185058594 |  3   |\n",
      "|      6      | 1466096189539 |  0.4061061143875122  |  1   |\n",
      "|      6      | 1466095829091 | 0.24281388521194458  |  2   |\n",
      "|      6      | 1466095861859 |  0.1988326907157898  |  3   |\n",
      "|      7      | 1466095960163 | 0.16264933347702026  |  1   |\n",
      "|      7      | 1466095829091 |  0.1397176186243693  |  2   |\n",
      "+-------------+---------------+----------------------+------+\n",
      "[27795 rows x 4 columns]\n",
      "\n"
     ]
    }
   ],
   "source": [
    "similarity_model = tc.item_similarity_recommender.create(lineItemsConstFrame,\n",
    "                                                         user_id=\"customer_id\",\n",
    "                                                         item_id=\"product_id\",\n",
    "                                                         target=\"quantity_one\",\n",
    "                                                         similarity_type='cosine',\n",
    "                                                         verbose=False)\n",
    "similarity_recommendations = similarity_model.recommend(users=customers_list,\n",
    "                                                        k=3,\n",
    "                                                        verbose=False)\n",
    "similarity_recommendations.print_rows(20)"
   ]
  },
  {
   "cell_type": "code",
   "execution_count": 65,
   "metadata": {},
   "outputs": [],
   "source": [
    "delcursor = mydb.cursor()\n",
    "sql = \"DELETE FROM popularity\"\n",
    "delcursor.execute(sql)\n",
    "\n",
    "for pop_rec in popularity_recommendations:\n",
    "    \n",
    "    mycursor = mydb.cursor()\n",
    "    \n",
    "    sql = \"INSERT INTO popularity (customer_id, product_id, score, rank) VALUES (%s, %s, %s, %s)\"\n",
    "    val = (pop_rec['customer_id'], pop_rec['product_id'], pop_rec['score'], pop_rec['rank'])\n",
    "    \n",
    "    mycursor.execute(sql, val)\n",
    "    mydb.commit()"
   ]
  },
  {
   "cell_type": "code",
   "execution_count": 66,
   "metadata": {},
   "outputs": [],
   "source": [
    "delcursor = mydb.cursor()\n",
    "sql = \"DELETE FROM similarities\"\n",
    "delcursor.execute(sql)\n",
    "\n",
    "for sim_rec in similarity_recommendations:\n",
    "    \n",
    "    mycursor = mydb.cursor()\n",
    "    \n",
    "    sql = \"INSERT INTO similarities (customer_id, product_id, score, rank) VALUES (%s, %s, %s, %s)\"\n",
    "    val = (sim_rec['customer_id'], sim_rec['product_id'], sim_rec['score'], sim_rec['rank'])\n",
    "    \n",
    "    mycursor.execute(sql, val)\n",
    "    mydb.commit()"
   ]
  },
  {
   "cell_type": "code",
   "execution_count": null,
   "metadata": {},
   "outputs": [],
   "source": []
  }
 ],
 "metadata": {
  "kernelspec": {
   "display_name": "Python 3",
   "language": "python",
   "name": "python3"
  },
  "language_info": {
   "codemirror_mode": {
    "name": "ipython",
    "version": 3
   },
   "file_extension": ".py",
   "mimetype": "text/x-python",
   "name": "python",
   "nbconvert_exporter": "python",
   "pygments_lexer": "ipython3",
   "version": "3.6.8"
  }
 },
 "nbformat": 4,
 "nbformat_minor": 2
}
