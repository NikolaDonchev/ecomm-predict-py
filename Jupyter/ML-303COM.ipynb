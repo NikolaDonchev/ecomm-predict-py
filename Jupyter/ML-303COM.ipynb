{
 "cells": [
  {
   "cell_type": "code",
   "execution_count": 536,
   "metadata": {},
   "outputs": [],
   "source": [
    "import pandas as pd\n",
    "import turicreate as tc\n",
    "import mysql.connector as db\n",
    "from sklearn.model_selection import train_test_split"
   ]
  },
  {
   "cell_type": "code",
   "execution_count": 537,
   "metadata": {},
   "outputs": [],
   "source": [
    "mydb = db.connect(\n",
    "  host = \"localhost\",\n",
    "  user = \"root\",\n",
    "  passwd = \"\",\n",
    "  database = \"ecomm_ml\"\n",
    ")\n",
    "\n",
    "lineItems = mydb.cursor()\n",
    "lineItems.execute(\"SELECT `customer_id`, `product_id`, `quantity` FROM line_items\")\n",
    "lineItems = lineItems.fetchall()\n",
    "\n",
    "customers = mydb.cursor()\n",
    "customers.execute(\"SELECT `id` from `customers`\")\n",
    "customers = customers.fetchall()"
   ]
  },
  {
   "cell_type": "code",
   "execution_count": 538,
   "metadata": {},
   "outputs": [],
   "source": [
    "lineItems = pd.DataFrame(lineItems,\n",
    "                         columns=['customer_id', 'product_id', 'quantity'])"
   ]
  },
  {
   "cell_type": "code",
   "execution_count": 539,
   "metadata": {},
   "outputs": [],
   "source": [
    "customers_list = []\n",
    "for i in customers:\n",
    "    customers_list.append(i[0])"
   ]
  },
  {
   "cell_type": "code",
   "execution_count": 540,
   "metadata": {},
   "outputs": [],
   "source": [
    "lineItems = lineItems.groupby(['customer_id', 'product_id'],\n",
    "                              as_index=False)['quantity'].sum()"
   ]
  },
  {
   "cell_type": "code",
   "execution_count": 541,
   "metadata": {},
   "outputs": [],
   "source": [
    "def minmax_normalisation(data):\n",
    "    # Before we use the formula it would be easier to pivot the table to a matrix\n",
    "    matrix = pd.pivot_table(data,\n",
    "                            values='quantity',\n",
    "                            index='customer_id',\n",
    "                            columns='product_id')\n",
    "    matrix_normalised = (matrix - matrix.min()) / (matrix.max() - matrix.min())\n",
    "    # Reset the index\n",
    "    matrix_normalised = matrix_normalised.reset_index()\n",
    "    # Create a new index column in the data for the minmax quantity\n",
    "    matrix_normalised.index.names = ['minmax_quantity']\n",
    "    # Use pandas melt to change the matrix back to a list\n",
    "    matrix_normalised = pd.melt(matrix_normalised,\n",
    "                                id_vars=['customer_id'],\n",
    "                                value_name='minmax_quantity').dropna()\n",
    "    return matrix_normalised"
   ]
  },
  {
   "cell_type": "code",
   "execution_count": 542,
   "metadata": {},
   "outputs": [],
   "source": [
    "def const_quantity(data):\n",
    "    '''\n",
    "    The constant data had to be created\n",
    "    to be able to run RMSE tests\n",
    "    :param data:\n",
    "    :return data:\n",
    "    '''\n",
    "    data['quantity_one'] = 1\n",
    "    return data"
   ]
  },
  {
   "cell_type": "code",
   "execution_count": 543,
   "metadata": {},
   "outputs": [],
   "source": [
    "def transform_bins(s):\n",
    "    '''\n",
    "    1 = 0\n",
    "    2 = 1\n",
    "    2-3 = 3\n",
    "    4-8 = 4\n",
    "    < 9 = 5\n",
    "    '''\n",
    "    if s == 1:\n",
    "        s = 1\n",
    "    elif s == 2:\n",
    "        s = 2\n",
    "    elif s > 2 and s <= 4:\n",
    "        s = 3\n",
    "    elif s > 4 and s <= 8:\n",
    "        s = 4\n",
    "    elif s > 8:\n",
    "        s = 5\n",
    "    return s\n",
    "\n",
    "# frame.apply(f, axis=0)\n",
    "\n",
    "def binning_normalisation(data):\n",
    "    '''\n",
    "    Group Data into Bins\n",
    "    :param data:\n",
    "    :return normalised:\n",
    "    '''\n",
    "    data['quantity'] = data['quantity'].transform(transform_bins)\n",
    "    return data"
   ]
  },
  {
   "cell_type": "code",
   "execution_count": 544,
   "metadata": {},
   "outputs": [],
   "source": [
    "def ml_split(items):\n",
    "    # Split the data for ML model 80:20 ratio\n",
    "    train, test = train_test_split(items, test_size=.2)\n",
    "    # Use the data as a Turi SFrame\n",
    "    train_data = tc.SFrame(train)\n",
    "    test_data = tc.SFrame(test)\n",
    "    return train_data, test_data"
   ]
  },
  {
   "cell_type": "code",
   "execution_count": 545,
   "metadata": {},
   "outputs": [],
   "source": [
    "def generate_recommendations(data, customers, alg, target=None, recommend=True):\n",
    "    if alg == \"popularity\":\n",
    "        model = tc.popularity_recommender.create(data,\n",
    "                                                 user_id=\"customer_id\",\n",
    "                                                 item_id=\"product_id\",\n",
    "                                                 target=target,\n",
    "                                                 verbose=False)\n",
    "\n",
    "    elif alg == \"similarity\":\n",
    "        model = tc.item_similarity_recommender.create(data,\n",
    "                                                      user_id=\"customer_id\",\n",
    "                                                      item_id=\"product_id\",\n",
    "                                                      target=target,\n",
    "                                                      similarity_type='cosine',\n",
    "                                                      verbose=False)\n",
    "\n",
    "    if recommend:\n",
    "        recommendations = model.recommend(users=customers, k=5, verbose=False)\n",
    "        return recommendations\n",
    "    else:\n",
    "        return model"
   ]
  },
  {
   "cell_type": "code",
   "execution_count": 546,
   "metadata": {},
   "outputs": [],
   "source": [
    "lineItemsConst = const_quantity(lineItems)\n",
    "lineItemsMinMax = minmax_normalisation(lineItems)\n",
    "lineItemsBins = binning_normalisation(lineItems)"
   ]
  },
  {
   "cell_type": "code",
   "execution_count": 547,
   "metadata": {},
   "outputs": [],
   "source": [
    "items_normal_train, items_normal_test = ml_split(lineItemsConst)\n",
    "items_minmax_train, items_minmax_test = ml_split(lineItemsMinMax)\n",
    "items_bins_train, items_bins_test = ml_split(lineItemsBins)"
   ]
  },
  {
   "cell_type": "markdown",
   "metadata": {},
   "source": [
    "# Popularity search"
   ]
  },
  {
   "cell_type": "markdown",
   "metadata": {},
   "source": [
    "## Normal quantity"
   ]
  },
  {
   "cell_type": "code",
   "execution_count": 548,
   "metadata": {},
   "outputs": [
    {
     "name": "stdout",
     "output_type": "stream",
     "text": [
      "+-------------+---------------+--------------------+------+\n",
      "| customer_id |   product_id  |       score        | rank |\n",
      "+-------------+---------------+--------------------+------+\n",
      "|      1      | 1466318520419 | 2.161073825503356  |  1   |\n",
      "|      1      | 1466096451683 | 1.7588235294117647 |  2   |\n",
      "|      1      | 1466096418915 | 1.5869565217391304 |  3   |\n",
      "|      1      | 1466095894627 | 1.5867549668874172 |  4   |\n",
      "|      1      | 1466095927395 | 1.5324947589098532 |  5   |\n",
      "|      2      | 1466318520419 | 2.161073825503356  |  1   |\n",
      "|      2      | 1466096451683 | 1.7588235294117647 |  2   |\n",
      "|      2      | 1466096418915 | 1.5869565217391304 |  3   |\n",
      "|      2      | 1466095927395 | 1.5324947589098532 |  4   |\n",
      "|      2      | 1466096189539 | 1.4973110670818002 |  5   |\n",
      "|      3      | 1466318520419 | 2.161073825503356  |  1   |\n",
      "|      3      | 1466096451683 | 1.7588235294117647 |  2   |\n",
      "|      3      | 1466096418915 | 1.5869565217391304 |  3   |\n",
      "|      3      | 1466095894627 | 1.5867549668874172 |  4   |\n",
      "|      3      | 1466095927395 | 1.5324947589098532 |  5   |\n",
      "|      4      | 1466318520419 | 2.161073825503356  |  1   |\n",
      "|      4      | 1466096451683 | 1.7588235294117647 |  2   |\n",
      "|      4      | 1466096418915 | 1.5869565217391304 |  3   |\n",
      "|      4      | 1466096189539 | 1.4973110670818002 |  4   |\n",
      "|      4      | 1466096353379 | 1.3137697516930023 |  5   |\n",
      "+-------------+---------------+--------------------+------+\n",
      "[46325 rows x 4 columns]\n",
      "\n"
     ]
    }
   ],
   "source": [
    "popularity_recommendations_normal = generate_recommendations(items_normal_train,\n",
    "                                                             customers_list,\n",
    "                                                             \"popularity\",\n",
    "                                                             \"quantity\")\n",
    "popularity_recommendations_normal.print_rows(20)"
   ]
  },
  {
   "cell_type": "markdown",
   "metadata": {},
   "source": [
    "## Min-Max Normalisation"
   ]
  },
  {
   "cell_type": "code",
   "execution_count": 549,
   "metadata": {},
   "outputs": [
    {
     "name": "stdout",
     "output_type": "stream",
     "text": [
      "+-------------+---------------+---------------------+------+\n",
      "| customer_id |   product_id  |        score        | rank |\n",
      "+-------------+---------------+---------------------+------+\n",
      "|      1      | 1466096451683 | 0.11492063492063484 |  1   |\n",
      "|      1      | 1466096418915 | 0.09313725490196072 |  2   |\n",
      "|      1      |  15571187078  | 0.07575757575757576 |  3   |\n",
      "|      1      | 1239867981830 | 0.07017543859649122 |  4   |\n",
      "|      1      | 1466096386147 | 0.06346555323590802 |  5   |\n",
      "|      2      | 1466096451683 | 0.11492063492063484 |  1   |\n",
      "|      2      | 1466096418915 | 0.09313725490196072 |  2   |\n",
      "|      2      |  15571187078  | 0.07575757575757576 |  3   |\n",
      "|      2      | 1239867981830 | 0.07017543859649122 |  4   |\n",
      "|      2      | 1466096386147 | 0.06346555323590802 |  5   |\n",
      "|      3      | 1466096451683 | 0.11492063492063484 |  1   |\n",
      "|      3      | 1466096418915 | 0.09313725490196072 |  2   |\n",
      "|      3      |  15571187078  | 0.07575757575757576 |  3   |\n",
      "|      3      | 1239867981830 | 0.07017543859649122 |  4   |\n",
      "|      3      | 1466096386147 | 0.06346555323590802 |  5   |\n",
      "|      4      |  15571187078  | 0.07575757575757576 |  1   |\n",
      "|      4      | 1239867981830 | 0.07017543859649122 |  2   |\n",
      "|      4      | 1466096386147 | 0.06346555323590802 |  3   |\n",
      "|      4      | 1466318520419 |  0.0619047619047619 |  4   |\n",
      "|      4      | 1466096320611 | 0.06132075471698113 |  5   |\n",
      "+-------------+---------------+---------------------+------+\n",
      "[46325 rows x 4 columns]\n",
      "\n"
     ]
    }
   ],
   "source": [
    "popularity_recommendations_minmax = generate_recommendations(items_minmax_train,\n",
    "                                                             customers_list,\n",
    "                                                             \"popularity\",\n",
    "                                                             \"minmax_quantity\")\n",
    "popularity_recommendations_minmax.print_rows(20)"
   ]
  },
  {
   "cell_type": "markdown",
   "metadata": {},
   "source": [
    "## Grouping data into Bins"
   ]
  },
  {
   "cell_type": "code",
   "execution_count": 550,
   "metadata": {},
   "outputs": [
    {
     "name": "stdout",
     "output_type": "stream",
     "text": [
      "+-------------+---------------+--------------------+------+\n",
      "| customer_id |   product_id  |       score        | rank |\n",
      "+-------------+---------------+--------------------+------+\n",
      "|      1      | 1466318520419 | 2.1390728476821192 |  1   |\n",
      "|      1      | 1466096451683 |  1.69364161849711  |  2   |\n",
      "|      1      | 1466096418915 | 1.6074074074074074 |  3   |\n",
      "|      1      | 1466095894627 | 1.6025974025974026 |  4   |\n",
      "|      1      | 1466095927395 | 1.5229166666666667 |  5   |\n",
      "|      2      | 1466318520419 | 2.1390728476821192 |  1   |\n",
      "|      2      | 1466096451683 |  1.69364161849711  |  2   |\n",
      "|      2      | 1466096418915 | 1.6074074074074074 |  3   |\n",
      "|      2      | 1466095894627 | 1.6025974025974026 |  4   |\n",
      "|      2      | 1466095927395 | 1.5229166666666667 |  5   |\n",
      "|      3      | 1466318520419 | 2.1390728476821192 |  1   |\n",
      "|      3      | 1466096451683 |  1.69364161849711  |  2   |\n",
      "|      3      | 1466096418915 | 1.6074074074074074 |  3   |\n",
      "|      3      | 1466095894627 | 1.6025974025974026 |  4   |\n",
      "|      3      | 1466095927395 | 1.5229166666666667 |  5   |\n",
      "|      4      | 1466318520419 | 2.1390728476821192 |  1   |\n",
      "|      4      | 1466096418915 | 1.6074074074074074 |  2   |\n",
      "|      4      | 1466095927395 | 1.5229166666666667 |  3   |\n",
      "|      4      | 1466096189539 | 1.4896848137535816 |  4   |\n",
      "|      4      | 1466096255075 | 1.3080808080808082 |  5   |\n",
      "+-------------+---------------+--------------------+------+\n",
      "[46325 rows x 4 columns]\n",
      "\n"
     ]
    }
   ],
   "source": [
    "popularity_recommendations_binning = generate_recommendations(items_bins_train,\n",
    "                                                             customers_list,\n",
    "                                                             \"popularity\",\n",
    "                                                             \"quantity\")\n",
    "popularity_recommendations_binning.print_rows(20)"
   ]
  },
  {
   "cell_type": "markdown",
   "metadata": {},
   "source": [
    "## Constant Quantity"
   ]
  },
  {
   "cell_type": "code",
   "execution_count": 551,
   "metadata": {},
   "outputs": [
    {
     "name": "stdout",
     "output_type": "stream",
     "text": [
      "+-------------+---------------+-------+------+\n",
      "| customer_id |   product_id  | score | rank |\n",
      "+-------------+---------------+-------+------+\n",
      "|      1      |  33141385926  |  1.0  |  1   |\n",
      "|      1      | 1466095861859 |  1.0  |  2   |\n",
      "|      1      | 1466096353379 |  1.0  |  3   |\n",
      "|      1      | 1466096386147 |  1.0  |  4   |\n",
      "|      1      | 1466095894627 |  1.0  |  5   |\n",
      "|      2      | 1466095861859 |  1.0  |  1   |\n",
      "|      2      | 1466096353379 |  1.0  |  2   |\n",
      "|      2      | 1466096189539 |  1.0  |  3   |\n",
      "|      2      | 1466096386147 |  1.0  |  4   |\n",
      "|      2      | 1466095829091 |  1.0  |  5   |\n",
      "|      3      | 1466095861859 |  1.0  |  1   |\n",
      "|      3      | 1466096353379 |  1.0  |  2   |\n",
      "|      3      | 1466096189539 |  1.0  |  3   |\n",
      "|      3      | 1466096386147 |  1.0  |  4   |\n",
      "|      3      | 1466095894627 |  1.0  |  5   |\n",
      "|      4      |  33141385926  |  1.0  |  1   |\n",
      "|      4      | 1466096353379 |  1.0  |  2   |\n",
      "|      4      | 1466096189539 |  1.0  |  3   |\n",
      "|      4      | 1466096386147 |  1.0  |  4   |\n",
      "|      4      | 1466095829091 |  1.0  |  5   |\n",
      "+-------------+---------------+-------+------+\n",
      "[46325 rows x 4 columns]\n",
      "\n"
     ]
    }
   ],
   "source": [
    "popularity_recommendations_const = generate_recommendations(items_normal_train,\n",
    "                                                            customers_list,\n",
    "                                                            \"popularity\",\n",
    "                                                            \"quantity_one\")\n",
    "popularity_recommendations_const.print_rows(20)"
   ]
  },
  {
   "cell_type": "markdown",
   "metadata": {},
   "source": [
    "## Implicit Data"
   ]
  },
  {
   "cell_type": "code",
   "execution_count": 565,
   "metadata": {},
   "outputs": [
    {
     "name": "stdout",
     "output_type": "stream",
     "text": [
      "+-------------+---------------+--------+------+\n",
      "| customer_id |   product_id  | score  | rank |\n",
      "+-------------+---------------+--------+------+\n",
      "|      1      | 1466095861859 | 901.0  |  1   |\n",
      "|      1      | 1466095894627 | 755.0  |  2   |\n",
      "|      1      | 1466096386147 | 484.0  |  3   |\n",
      "|      1      | 1466095927395 | 477.0  |  4   |\n",
      "|      1      | 1466096353379 | 443.0  |  5   |\n",
      "|      2      | 1466096189539 | 3533.0 |  1   |\n",
      "|      2      | 1466095960163 | 1610.0 |  2   |\n",
      "|      2      | 1466095829091 | 1448.0 |  3   |\n",
      "|      2      | 1466095861859 | 901.0  |  4   |\n",
      "|      2      | 1466096386147 | 484.0  |  5   |\n",
      "|      3      | 1466096189539 | 3533.0 |  1   |\n",
      "|      3      | 1466095960163 | 1610.0 |  2   |\n",
      "|      3      | 1466095861859 | 901.0  |  3   |\n",
      "|      3      | 1466095894627 | 755.0  |  4   |\n",
      "|      3      | 1466096386147 | 484.0  |  5   |\n",
      "|      4      | 1466096189539 | 3533.0 |  1   |\n",
      "|      4      | 1466095960163 | 1610.0 |  2   |\n",
      "|      4      | 1466095829091 | 1448.0 |  3   |\n",
      "|      4      | 1466096386147 | 484.0  |  4   |\n",
      "|      4      | 1466096353379 | 443.0  |  5   |\n",
      "+-------------+---------------+--------+------+\n",
      "[46325 rows x 4 columns]\n",
      "\n"
     ]
    }
   ],
   "source": [
    "popularity_recommendations_const = generate_recommendations(items_normal_train,\n",
    "                                                            customers_list,\n",
    "                                                            \"popularity\")\n",
    "popularity_recommendations_const.print_rows(20)"
   ]
  },
  {
   "cell_type": "markdown",
   "metadata": {},
   "source": [
    "# Similarity Search (Collaborative Filtering)"
   ]
  },
  {
   "cell_type": "markdown",
   "metadata": {},
   "source": [
    "## Normal quantity"
   ]
  },
  {
   "cell_type": "code",
   "execution_count": 552,
   "metadata": {},
   "outputs": [
    {
     "name": "stdout",
     "output_type": "stream",
     "text": [
      "+-------------+---------------+----------------------+------+\n",
      "| customer_id |   product_id  |        score         | rank |\n",
      "+-------------+---------------+----------------------+------+\n",
      "|      1      | 1466095861859 | 0.12028110027313232  |  1   |\n",
      "|      1      | 1466095894627 | 0.04642679293950399  |  2   |\n",
      "|      1      | 1466095927395 | 0.03547161817550659  |  3   |\n",
      "|      1      |  15571182086  | 0.03263006607691447  |  4   |\n",
      "|      1      | 1466096320611 |  0.0321167508761088  |  5   |\n",
      "|      2      | 1466095927395 | 0.057584524154663086 |  1   |\n",
      "|      2      | 1466095829091 | 0.05057936906814575  |  2   |\n",
      "|      2      | 1466095861859 | 0.048455655574798584 |  3   |\n",
      "|      2      | 1466095960163 |  0.0461689829826355  |  4   |\n",
      "|      2      | 1466096189539 | 0.04253202676773071  |  5   |\n",
      "|      3      | 1466096189539 |  0.3347851037979126  |  1   |\n",
      "|      3      | 1466095960163 |  0.3214147090911865  |  2   |\n",
      "|      3      | 1466095861859 | 0.23949110507965088  |  3   |\n",
      "|      3      | 1466095894627 |  0.1011587381362915  |  4   |\n",
      "|      3      | 1466096320611 |  0.0681082010269165  |  5   |\n",
      "|      4      | 1466096189539 | 0.13279522955417633  |  1   |\n",
      "|      4      | 1466095960163 | 0.12239870429039001  |  2   |\n",
      "|      4      | 1466095829091 | 0.11831395328044891  |  3   |\n",
      "|      4      |   9672405955  | 0.07253339886665344  |  4   |\n",
      "|      4      |  11525025414  | 0.05434077978134155  |  5   |\n",
      "+-------------+---------------+----------------------+------+\n",
      "[46325 rows x 4 columns]\n",
      "\n"
     ]
    }
   ],
   "source": [
    "similarity_recommendations_normal = generate_recommendations(items_normal_train,\n",
    "                                                             customers_list,\n",
    "                                                             \"similarity\",\n",
    "                                                             \"quantity\")\n",
    "similarity_recommendations_normal.print_rows(20)"
   ]
  },
  {
   "cell_type": "markdown",
   "metadata": {},
   "source": [
    "## Min-Max Normalisation"
   ]
  },
  {
   "cell_type": "code",
   "execution_count": 574,
   "metadata": {},
   "outputs": [
    {
     "name": "stdout",
     "output_type": "stream",
     "text": [
      "+-------------+---------------+-----------------------+------+\n",
      "| customer_id |   product_id  |         score         | rank |\n",
      "+-------------+---------------+-----------------------+------+\n",
      "|      1      | 1466096386147 |          0.0          |  1   |\n",
      "|      1      | 1466096353379 |          0.0          |  2   |\n",
      "|      1      |   9672405955  |          0.0          |  3   |\n",
      "|      1      | 1466095861859 |          0.0          |  4   |\n",
      "|      1      | 1466095927395 |          0.0          |  5   |\n",
      "|      2      | 1466096353379 |          0.0          |  1   |\n",
      "|      2      |   9672405955  |          0.0          |  2   |\n",
      "|      2      | 1466095861859 |          0.0          |  3   |\n",
      "|      2      | 1466095927395 |          0.0          |  4   |\n",
      "|      2      | 1466096189539 |          0.0          |  5   |\n",
      "|      3      | 1466095960163 |  0.01810455322265625  |  1   |\n",
      "|      3      | 1466096189539 |  0.006688117980957031 |  2   |\n",
      "|      3      | 1466096451683 |  0.005774974822998047 |  3   |\n",
      "|      3      |  11525025414  |  0.00407332181930542  |  4   |\n",
      "|      3      | 1466096320611 |  0.002942204475402832 |  5   |\n",
      "|      4      | 1466095960163 |  0.005807530879974365 |  1   |\n",
      "|      4      | 1466096189539 | 0.0031465768814086916 |  2   |\n",
      "|      4      |  15571187078  |  0.002542245388031006 |  3   |\n",
      "|      4      | 1466096287843 | 0.0024706125259399414 |  4   |\n",
      "|      4      | 1466095829091 | 0.0015529990196228027 |  5   |\n",
      "+-------------+---------------+-----------------------+------+\n",
      "[46325 rows x 4 columns]\n",
      "\n"
     ]
    }
   ],
   "source": [
    "similarity_recommendations_minmax = generate_recommendations(items_minmax_train,\n",
    "                                                             customers_list,\n",
    "                                                             \"similarity\",\n",
    "                                                             \"minmax_quantity\")\n",
    "similarity_recommendations_minmax.print_rows(20)"
   ]
  },
  {
   "cell_type": "code",
   "execution_count": 554,
   "metadata": {},
   "outputs": [
    {
     "data": {
      "text/plain": [
       "21785"
      ]
     },
     "execution_count": 554,
     "metadata": {},
     "output_type": "execute_result"
    }
   ],
   "source": [
    "sim_zeros = pd.DataFrame(similarity_recommendations_minmax)\n",
    "len(sim_zeros[sim_zeros.score == 0])"
   ]
  },
  {
   "cell_type": "markdown",
   "metadata": {},
   "source": [
    "## Grouping into Bins"
   ]
  },
  {
   "cell_type": "code",
   "execution_count": 555,
   "metadata": {},
   "outputs": [
    {
     "name": "stdout",
     "output_type": "stream",
     "text": [
      "+-------------+---------------+----------------------+------+\n",
      "| customer_id |   product_id  |        score         | rank |\n",
      "+-------------+---------------+----------------------+------+\n",
      "|      1      | 1466095861859 |  0.1184834639231364  |  1   |\n",
      "|      1      | 1466095894627 | 0.042665998140970864 |  2   |\n",
      "|      1      |  15571187078  | 0.032188733418782554 |  3   |\n",
      "|      1      |  15571182086  | 0.031768461068471275 |  4   |\n",
      "|      1      | 1466095927395 |  0.0315625270207723  |  5   |\n",
      "|      2      | 1466096189539 | 0.19822579622268677  |  1   |\n",
      "|      2      | 1466095829091 | 0.14990448951721191  |  2   |\n",
      "|      2      | 1466095861859 | 0.13272696733474731  |  3   |\n",
      "|      2      | 1466095894627 | 0.051471710205078125 |  4   |\n",
      "|      2      | 1466096418915 | 0.028578221797943115 |  5   |\n",
      "|      3      | 1466096418915 | 0.010383253097534179 |  1   |\n",
      "|      3      | 1466096451683 | 0.010099828243255615 |  2   |\n",
      "|      3      | 1466096320611 | 0.009865729808807374 |  3   |\n",
      "|      3      | 1466095960163 | 0.008869330883026123 |  4   |\n",
      "|      3      | 1466096189539 | 0.008034677505493163 |  5   |\n",
      "|      4      | 1466095960163 | 0.11793914437294006  |  1   |\n",
      "|      4      | 1466096189539 | 0.11443023383617401  |  2   |\n",
      "|      4      | 1466095829091 | 0.09813092648983002  |  3   |\n",
      "|      4      | 1466096418915 |  0.0808621197938919  |  4   |\n",
      "|      4      |   9672405955  | 0.054011017084121704 |  5   |\n",
      "+-------------+---------------+----------------------+------+\n",
      "[46325 rows x 4 columns]\n",
      "\n"
     ]
    }
   ],
   "source": [
    "similarity_recommendations_binning = generate_recommendations(items_bins_train,\n",
    "                                                             customers_list,\n",
    "                                                             \"similarity\",\n",
    "                                                             \"quantity\")\n",
    "similarity_recommendations_binning.print_rows(20)"
   ]
  },
  {
   "cell_type": "markdown",
   "metadata": {},
   "source": [
    "## Constant Quantity"
   ]
  },
  {
   "cell_type": "code",
   "execution_count": 556,
   "metadata": {},
   "outputs": [
    {
     "name": "stdout",
     "output_type": "stream",
     "text": [
      "+-------------+---------------+----------------------+------+\n",
      "| customer_id |   product_id  |        score         | rank |\n",
      "+-------------+---------------+----------------------+------+\n",
      "|      1      | 1466095861859 | 0.16687522331873575  |  1   |\n",
      "|      1      | 1466095894627 | 0.07578690846761067  |  2   |\n",
      "|      1      | 1466095927395 | 0.06043688456217448  |  3   |\n",
      "|      1      | 1466096320611 | 0.03969768683115641  |  4   |\n",
      "|      1      |  15571182086  | 0.03475914398829142  |  5   |\n",
      "|      2      | 1466095927395 | 0.09498220682144165  |  1   |\n",
      "|      2      | 1466096189539 | 0.09184300899505615  |  2   |\n",
      "|      2      | 1466095861859 | 0.08608400821685791  |  3   |\n",
      "|      2      | 1466095829091 |  0.0774688720703125  |  4   |\n",
      "|      2      | 1466095960163 | 0.05804884433746338  |  5   |\n",
      "|      3      | 1466096189539 | 0.27323251962661743  |  1   |\n",
      "|      3      | 1466095960163 | 0.19844740629196167  |  2   |\n",
      "|      3      | 1466095861859 | 0.14533203840255737  |  3   |\n",
      "|      3      | 1466095894627 |  0.0774688720703125  |  4   |\n",
      "|      3      | 1466095927395 | 0.04933333396911621  |  5   |\n",
      "|      4      | 1466096189539 | 0.10310333967208862  |  1   |\n",
      "|      4      | 1466095829091 | 0.07028700411319733  |  2   |\n",
      "|      4      | 1466095960163 | 0.06911735236644745  |  3   |\n",
      "|      4      |   9672405955  | 0.060053691267967224 |  4   |\n",
      "|      4      |   9672385859  | 0.04627476632595062  |  5   |\n",
      "+-------------+---------------+----------------------+------+\n",
      "[46325 rows x 4 columns]\n",
      "\n"
     ]
    }
   ],
   "source": [
    "similarity_recommendations_const = generate_recommendations(items_normal_train,\n",
    "                                                            customers_list,\n",
    "                                                            \"similarity\",\n",
    "                                                            \"quantity_one\")\n",
    "similarity_recommendations_const.print_rows(20)"
   ]
  },
  {
   "cell_type": "markdown",
   "metadata": {},
   "source": [
    "## Implicit Data"
   ]
  },
  {
   "cell_type": "code",
   "execution_count": 573,
   "metadata": {},
   "outputs": [
    {
     "name": "stdout",
     "output_type": "stream",
     "text": [
      "+-------------+---------------+----------------------+------+\n",
      "| customer_id |   product_id  |        score         | rank |\n",
      "+-------------+---------------+----------------------+------+\n",
      "|      1      | 1466095861859 | 0.16687522331873575  |  1   |\n",
      "|      1      | 1466095894627 | 0.07578690846761067  |  2   |\n",
      "|      1      | 1466095927395 | 0.06043688456217448  |  3   |\n",
      "|      1      | 1466096320611 | 0.03969768683115641  |  4   |\n",
      "|      1      |  15571182086  | 0.03475914398829142  |  5   |\n",
      "|      2      | 1466095927395 | 0.09498220682144165  |  1   |\n",
      "|      2      | 1466096189539 | 0.09184300899505615  |  2   |\n",
      "|      2      | 1466095861859 | 0.08608400821685791  |  3   |\n",
      "|      2      | 1466095829091 |  0.0774688720703125  |  4   |\n",
      "|      2      | 1466095960163 | 0.05804884433746338  |  5   |\n",
      "|      3      | 1466096189539 | 0.27323251962661743  |  1   |\n",
      "|      3      | 1466095960163 | 0.19844740629196167  |  2   |\n",
      "|      3      | 1466095861859 | 0.14533203840255737  |  3   |\n",
      "|      3      | 1466095894627 |  0.0774688720703125  |  4   |\n",
      "|      3      | 1466095927395 | 0.04933333396911621  |  5   |\n",
      "|      4      | 1466096189539 | 0.10310333967208862  |  1   |\n",
      "|      4      | 1466095829091 | 0.07028700411319733  |  2   |\n",
      "|      4      | 1466095960163 | 0.06911735236644745  |  3   |\n",
      "|      4      |   9672405955  | 0.060053691267967224 |  4   |\n",
      "|      4      |   9672385859  | 0.04627476632595062  |  5   |\n",
      "+-------------+---------------+----------------------+------+\n",
      "[46325 rows x 4 columns]\n",
      "\n"
     ]
    }
   ],
   "source": [
    "similarity_recommendations_implicit = generate_recommendations(items_normal_train,\n",
    "                                                               customers_list,\n",
    "                                                               \"similarity\")\n",
    "similarity_recommendations_implicit.print_rows(20)"
   ]
  },
  {
   "cell_type": "markdown",
   "metadata": {},
   "source": [
    "# Testing the Models"
   ]
  },
  {
   "cell_type": "code",
   "execution_count": 568,
   "metadata": {},
   "outputs": [],
   "source": [
    "popularity_model_normal = generate_recommendations(items_normal_train,\n",
    "                                                   customers_list,\n",
    "                                                   \"popularity\",\n",
    "                                                   \"quantity\",\n",
    "                                                   False)\n",
    "popularity_model_minmax = generate_recommendations(items_minmax_train,\n",
    "                                                   customers_list,\n",
    "                                                   \"popularity\",\n",
    "                                                   \"minmax_quantity\",\n",
    "                                                   False)\n",
    "popularity_model_binning = generate_recommendations(items_bins_train,\n",
    "                                                    customers_list,\n",
    "                                                    \"popularity\",\n",
    "                                                    \"quantity\",\n",
    "                                                    False)\n",
    "popularity_model_const = generate_recommendations(items_normal_train,\n",
    "                                                       customers_list,\n",
    "                                                       \"popularity\",\n",
    "                                                       \"quantity_one\",\n",
    "                                                       False)\n",
    "popularity_model_implicit = generate_recommendations(items_normal_train,\n",
    "                                                       customers_list,\n",
    "                                                       \"popularity\",\n",
    "                                                       recommend=False)"
   ]
  },
  {
   "cell_type": "code",
   "execution_count": 570,
   "metadata": {},
   "outputs": [],
   "source": [
    "similarity_model_normal = generate_recommendations(items_normal_train,\n",
    "                                                   customers_list,\n",
    "                                                   \"similarity\",\n",
    "                                                   \"quantity\",\n",
    "                                                   False)\n",
    "similarity_model_minmax = generate_recommendations(items_minmax_train,\n",
    "                                                   customers_list,\n",
    "                                                   \"similarity\",\n",
    "                                                   \"minmax_quantity\",\n",
    "                                                   False)\n",
    "similarity_model_binning = generate_recommendations(items_bins_train,\n",
    "                                                    customers_list,\n",
    "                                                    \"similarity\",\n",
    "                                                    \"quantity\",\n",
    "                                                    False)\n",
    "similarity_model_const = generate_recommendations(items_normal_train,\n",
    "                                                       customers_list,\n",
    "                                                       \"similarity\",\n",
    "                                                       \"quantity_one\",\n",
    "                                                       False)\n",
    "similarity_model_implicit = generate_recommendations(items_normal_train,\n",
    "                                                    customers_list,\n",
    "                                                    \"similarity\",\n",
    "                                                    recommend=False)"
   ]
  },
  {
   "cell_type": "code",
   "execution_count": 571,
   "metadata": {},
   "outputs": [],
   "source": [
    "models_normal = [popularity_model_normal, similarity_model_normal]\n",
    "models_minmax = [popularity_model_minmax, similarity_model_minmax]\n",
    "models_bins = [popularity_model_binning, similarity_model_binning]\n",
    "models_const = [popularity_model_const, similarity_model_const]\n",
    "models_implicit = [popularity_model_implicit, similarity_model_implicit]\n",
    "\n",
    "names_normal = ['Popularity Model without Normalisation',\n",
    "                'Cosine Similarity without Normalisation']\n",
    "names_minmax = ['Popularity Model with MinMax Normalisation',\n",
    "                'Cosine Similarity with MinMax Normalisation']\n",
    "names_bins = ['Popularity Model with Grouped Data into Bins',\n",
    "              'Cosine Similarity with Grouped Data into Bins']\n",
    "names_const = ['Popularity Model with Constant Quantity',\n",
    "                    'Cosine Similarity with Constant Quantity']\n",
    "names_implicit = ['Popularity Model with Implicit Data',\n",
    "                  'Cosine Similarity with Implicit Data']"
   ]
  },
  {
   "cell_type": "code",
   "execution_count": 560,
   "metadata": {},
   "outputs": [
    {
     "name": "stdout",
     "output_type": "stream",
     "text": [
      "PROGRESS: Evaluate model Popularity Model without Normalisation\n"
     ]
    },
    {
     "data": {
      "text/html": [
       "<pre>recommendations finished on 1000/2558 queries. users per second: 278164</pre>"
      ],
      "text/plain": [
       "recommendations finished on 1000/2558 queries. users per second: 278164"
      ]
     },
     "metadata": {},
     "output_type": "display_data"
    },
    {
     "data": {
      "text/html": [
       "<pre>recommendations finished on 2000/2558 queries. users per second: 297486</pre>"
      ],
      "text/plain": [
       "recommendations finished on 2000/2558 queries. users per second: 297486"
      ]
     },
     "metadata": {},
     "output_type": "display_data"
    },
    {
     "name": "stdout",
     "output_type": "stream",
     "text": [
      "\n",
      "Precision and recall summary statistics by cutoff\n",
      "+--------+----------------------+----------------------+\n",
      "| cutoff |    mean_precision    |     mean_recall      |\n",
      "+--------+----------------------+----------------------+\n",
      "|   1    | 0.016028146989835856 | 0.015832681782642688 |\n",
      "|   2    | 0.018960125097732615 | 0.03456476413864989  |\n",
      "|   3    | 0.014855355746677115 | 0.039614281991138915 |\n",
      "|   4    | 0.03176309616888185  | 0.11630179827990623  |\n",
      "|   5    | 0.03917122752150126  | 0.17800364868386723  |\n",
      "|   6    | 0.08698201720093833  |  0.4760555121188429  |\n",
      "|   7    | 0.08109013738411701  |  0.5195790982538422  |\n",
      "|   8    | 0.07564503518373732  |  0.5558704717227009  |\n",
      "|   9    | 0.07054122144036132  |   0.58401746155851   |\n",
      "|   10   | 0.07208756841282236  |  0.6662431587177486  |\n",
      "+--------+----------------------+----------------------+\n",
      "[10 rows x 3 columns]\n",
      "\n",
      "\n",
      "Overall RMSE: 0.5808631514596044\n",
      "\n",
      "Per User RMSE (best)\n",
      "+-------------+------+-------+\n",
      "| customer_id | rmse | count |\n",
      "+-------------+------+-------+\n",
      "|     5566    | 0.0  |   1   |\n",
      "+-------------+------+-------+\n",
      "[1 rows x 3 columns]\n",
      "\n",
      "\n",
      "Per User RMSE (worst)\n",
      "+-------------+--------------------+-------+\n",
      "| customer_id |        rmse        | count |\n",
      "+-------------+--------------------+-------+\n",
      "|     3129    | 3.5026889329181996 |   1   |\n",
      "+-------------+--------------------+-------+\n",
      "[1 rows x 3 columns]\n",
      "\n",
      "\n",
      "Per Item RMSE (best)\n",
      "+------------+------+-------+\n",
      "| product_id | rmse | count |\n",
      "+------------+------+-------+\n",
      "| 9672385859 | 0.0  |   10  |\n",
      "+------------+------+-------+\n",
      "[1 rows x 3 columns]\n",
      "\n",
      "\n",
      "Per Item RMSE (worst)\n",
      "+---------------+--------------------+-------+\n",
      "|   product_id  |        rmse        | count |\n",
      "+---------------+--------------------+-------+\n",
      "| 1466096451683 | 1.0076762511464938 |   41  |\n",
      "+---------------+--------------------+-------+\n",
      "[1 rows x 3 columns]\n",
      "\n",
      "PROGRESS: Evaluate model Cosine Similarity without Normalisation\n"
     ]
    },
    {
     "data": {
      "text/html": [
       "<pre>recommendations finished on 1000/2558 queries. users per second: 307125</pre>"
      ],
      "text/plain": [
       "recommendations finished on 1000/2558 queries. users per second: 307125"
      ]
     },
     "metadata": {},
     "output_type": "display_data"
    },
    {
     "data": {
      "text/html": [
       "<pre>recommendations finished on 2000/2558 queries. users per second: 314268</pre>"
      ],
      "text/plain": [
       "recommendations finished on 2000/2558 queries. users per second: 314268"
      ]
     },
     "metadata": {},
     "output_type": "display_data"
    },
    {
     "name": "stdout",
     "output_type": "stream",
     "text": [
      "\n",
      "Precision and recall summary statistics by cutoff\n",
      "+--------+---------------------+--------------------+\n",
      "| cutoff |    mean_precision   |    mean_recall     |\n",
      "+--------+---------------------+--------------------+\n",
      "|   1    |  0.3025801407349488 | 0.2908848058378946 |\n",
      "|   2    | 0.22869429241594985 | 0.4386565024758931 |\n",
      "|   3    |  0.1862131873859783 | 0.5330336200156367 |\n",
      "|   4    | 0.15510164190774073 | 0.5830075579880104 |\n",
      "|   5    | 0.15879593432369016 | 0.7368712535835289 |\n",
      "|   6    | 0.14119103466249683 | 0.7780818347667449 |\n",
      "|   7    | 0.12671730146319699 | 0.8135261923377664 |\n",
      "|   8    | 0.11332095387021095 | 0.830531665363567  |\n",
      "|   9    | 0.10324906611067684 | 0.851055512118842  |\n",
      "|   10   | 0.09503518373729479 | 0.8698853270784465 |\n",
      "+--------+---------------------+--------------------+\n",
      "[10 rows x 3 columns]\n",
      "\n",
      "\n",
      "Overall RMSE: 1.409195095278454\n",
      "\n",
      "Per User RMSE (best)\n",
      "+-------------+---------------------+-------+\n",
      "| customer_id |         rmse        | count |\n",
      "+-------------+---------------------+-------+\n",
      "|     2737    | 0.15222835540771484 |   1   |\n",
      "+-------------+---------------------+-------+\n",
      "[1 rows x 3 columns]\n",
      "\n",
      "\n",
      "Per User RMSE (worst)\n",
      "+-------------+-------------------+-------+\n",
      "| customer_id |        rmse       | count |\n",
      "+-------------+-------------------+-------+\n",
      "|     8521    | 4.995930995941162 |   1   |\n",
      "+-------------+-------------------+-------+\n",
      "[1 rows x 3 columns]\n",
      "\n",
      "\n",
      "Per Item RMSE (best)\n",
      "+-------------+--------------------+-------+\n",
      "|  product_id |        rmse        | count |\n",
      "+-------------+--------------------+-------+\n",
      "| 15571182086 | 0.9119340938706832 |   31  |\n",
      "+-------------+--------------------+-------+\n",
      "[1 rows x 3 columns]\n",
      "\n",
      "\n",
      "Per Item RMSE (worst)\n",
      "+---------------+-------------------+-------+\n",
      "|   product_id  |        rmse       | count |\n",
      "+---------------+-------------------+-------+\n",
      "| 1466318520419 | 2.185178579160855 |   41  |\n",
      "+---------------+-------------------+-------+\n",
      "[1 rows x 3 columns]\n",
      "\n"
     ]
    }
   ],
   "source": [
    "test_normal = tc.recommender.util.compare_models(items_normal_test,\n",
    "                                                 models_normal,\n",
    "                                                 model_names=names_normal)"
   ]
  },
  {
   "cell_type": "code",
   "execution_count": 561,
   "metadata": {},
   "outputs": [
    {
     "name": "stdout",
     "output_type": "stream",
     "text": [
      "PROGRESS: Evaluate model Popularity Model with MinMax Normalisation\n"
     ]
    },
    {
     "data": {
      "text/html": [
       "<pre>recommendations finished on 1000/2516 queries. users per second: 335796</pre>"
      ],
      "text/plain": [
       "recommendations finished on 1000/2516 queries. users per second: 335796"
      ]
     },
     "metadata": {},
     "output_type": "display_data"
    },
    {
     "data": {
      "text/html": [
       "<pre>recommendations finished on 2000/2516 queries. users per second: 328623</pre>"
      ],
      "text/plain": [
       "recommendations finished on 2000/2516 queries. users per second: 328623"
      ]
     },
     "metadata": {},
     "output_type": "display_data"
    },
    {
     "name": "stdout",
     "output_type": "stream",
     "text": [
      "\n",
      "Precision and recall summary statistics by cutoff\n",
      "+--------+----------------------+----------------------+\n",
      "| cutoff |    mean_precision    |     mean_recall      |\n",
      "+--------+----------------------+----------------------+\n",
      "|   1    | 0.020270270270270285 | 0.016593799682034956 |\n",
      "|   2    | 0.01311605723370431  | 0.020634605193428666 |\n",
      "|   3    | 0.012586115527291997 | 0.03043852676205613  |\n",
      "|   4    | 0.01192368839427663  | 0.03871886592474827  |\n",
      "|   5    | 0.019157392686804452 | 0.08141229464758878  |\n",
      "|   6    | 0.020204027556968707 | 0.10504107048224684  |\n",
      "|   7    | 0.023733817851464882 |  0.145131160572337   |\n",
      "|   8    | 0.02344992050874404  |  0.1620561738208797  |\n",
      "|   9    | 0.02128599187422717  |  0.165434552199258   |\n",
      "|   10   | 0.020826709062003203 |  0.1795111287758346  |\n",
      "+--------+----------------------+----------------------+\n",
      "[10 rows x 3 columns]\n",
      "\n",
      "\n",
      "Overall RMSE: 0.10339553774523909\n",
      "\n",
      "Per User RMSE (best)\n",
      "+-------------+----------------------+-------+\n",
      "| customer_id |         rmse         | count |\n",
      "+-------------+----------------------+-------+\n",
      "|     3326    | 0.003809523809523735 |   1   |\n",
      "+-------------+----------------------+-------+\n",
      "[1 rows x 3 columns]\n",
      "\n",
      "\n",
      "Per User RMSE (worst)\n",
      "+-------------+--------------------+-------+\n",
      "| customer_id |        rmse        | count |\n",
      "+-------------+--------------------+-------+\n",
      "|     5554    | 0.9846153846153847 |   1   |\n",
      "+-------------+--------------------+-------+\n",
      "[1 rows x 3 columns]\n",
      "\n",
      "\n",
      "Per Item RMSE (best)\n",
      "+------------+----------------------+-------+\n",
      "| product_id |         rmse         | count |\n",
      "+------------+----------------------+-------+\n",
      "| 9672405955 | 0.014925373134328358 |   21  |\n",
      "+------------+----------------------+-------+\n",
      "[1 rows x 3 columns]\n",
      "\n",
      "\n",
      "Per Item RMSE (worst)\n",
      "+-------------+--------------------+-------+\n",
      "|  product_id |        rmse        | count |\n",
      "+-------------+--------------------+-------+\n",
      "| 33141363974 | 0.5463546479719416 |   3   |\n",
      "+-------------+--------------------+-------+\n",
      "[1 rows x 3 columns]\n",
      "\n",
      "PROGRESS: Evaluate model Cosine Similarity with MinMax Normalisation\n"
     ]
    },
    {
     "data": {
      "text/html": [
       "<pre>recommendations finished on 1000/2516 queries. users per second: 270051</pre>"
      ],
      "text/plain": [
       "recommendations finished on 1000/2516 queries. users per second: 270051"
      ]
     },
     "metadata": {},
     "output_type": "display_data"
    },
    {
     "data": {
      "text/html": [
       "<pre>recommendations finished on 2000/2516 queries. users per second: 304275</pre>"
      ],
      "text/plain": [
       "recommendations finished on 2000/2516 queries. users per second: 304275"
      ]
     },
     "metadata": {},
     "output_type": "display_data"
    },
    {
     "name": "stdout",
     "output_type": "stream",
     "text": [
      "\n",
      "Precision and recall summary statistics by cutoff\n",
      "+--------+---------------------+---------------------+\n",
      "| cutoff |    mean_precision   |     mean_recall     |\n",
      "+--------+---------------------+---------------------+\n",
      "|   1    |  0.2225755166931637 |  0.2113606253312135 |\n",
      "|   2    | 0.14069952305246416 |  0.2653285638579753 |\n",
      "|   3    |  0.1083730789613143 |  0.3053391626921047 |\n",
      "|   4    | 0.08555246422893512 |  0.3198131955484895 |\n",
      "|   5    | 0.08076311605723373 |  0.375900900900901  |\n",
      "|   6    |  0.0792262851086379 |  0.443514838367779  |\n",
      "|   7    | 0.07284805814217601 | 0.47385400105988373 |\n",
      "|   8    | 0.08490659777424478 |  0.6215421303656603 |\n",
      "|   9    | 0.09066419360537022 |  0.743561208267092  |\n",
      "|   10   | 0.08286963434022263 |  0.7532988871224168 |\n",
      "+--------+---------------------+---------------------+\n",
      "[10 rows x 3 columns]\n",
      "\n",
      "\n",
      "Overall RMSE: 0.11047988028921633\n",
      "\n",
      "Per User RMSE (best)\n",
      "+-------------+------+-------+\n",
      "| customer_id | rmse | count |\n",
      "+-------------+------+-------+\n",
      "|     7671    | 0.0  |   1   |\n",
      "+-------------+------+-------+\n",
      "[1 rows x 3 columns]\n",
      "\n",
      "\n",
      "Per User RMSE (worst)\n",
      "+-------------+------+-------+\n",
      "| customer_id | rmse | count |\n",
      "+-------------+------+-------+\n",
      "|     5554    | 1.0  |   1   |\n",
      "+-------------+------+-------+\n",
      "[1 rows x 3 columns]\n",
      "\n",
      "\n",
      "Per Item RMSE (best)\n",
      "+------------+------+-------+\n",
      "| product_id | rmse | count |\n",
      "+------------+------+-------+\n",
      "| 9672405955 | 0.0  |   21  |\n",
      "+------------+------+-------+\n",
      "[1 rows x 3 columns]\n",
      "\n",
      "\n",
      "Per Item RMSE (worst)\n",
      "+-------------+--------------------+-------+\n",
      "|  product_id |        rmse        | count |\n",
      "+-------------+--------------------+-------+\n",
      "| 33141363974 | 0.5773461963768636 |   3   |\n",
      "+-------------+--------------------+-------+\n",
      "[1 rows x 3 columns]\n",
      "\n"
     ]
    }
   ],
   "source": [
    "test_minmax = tc.recommender.util.compare_models(items_minmax_test,\n",
    "                                                 models_minmax,\n",
    "                                                 model_names=names_minmax)"
   ]
  },
  {
   "cell_type": "code",
   "execution_count": 562,
   "metadata": {},
   "outputs": [
    {
     "name": "stdout",
     "output_type": "stream",
     "text": [
      "PROGRESS: Evaluate model Popularity Model with Grouped Data into Bins\n"
     ]
    },
    {
     "data": {
      "text/html": [
       "<pre>recommendations finished on 1000/2536 queries. users per second: 253936</pre>"
      ],
      "text/plain": [
       "recommendations finished on 1000/2536 queries. users per second: 253936"
      ]
     },
     "metadata": {},
     "output_type": "display_data"
    },
    {
     "data": {
      "text/html": [
       "<pre>recommendations finished on 2000/2536 queries. users per second: 307882</pre>"
      ],
      "text/plain": [
       "recommendations finished on 2000/2536 queries. users per second: 307882"
      ]
     },
     "metadata": {},
     "output_type": "display_data"
    },
    {
     "name": "stdout",
     "output_type": "stream",
     "text": [
      "\n",
      "Precision and recall summary statistics by cutoff\n",
      "+--------+----------------------+----------------------+\n",
      "| cutoff |    mean_precision    |     mean_recall      |\n",
      "+--------+----------------------+----------------------+\n",
      "|   1    | 0.015772870662460574 | 0.015772870662460574 |\n",
      "|   2    | 0.01892744479495269  | 0.034634595162986344 |\n",
      "|   3    | 0.014852786540483696 | 0.039563617245005324 |\n",
      "|   4    | 0.029672712933753953 | 0.10738696109358574  |\n",
      "|   5    | 0.03817034700315454  | 0.17435594111461603  |\n",
      "|   6    |  0.0895110410094638  |  0.4941508937960045  |\n",
      "|   7    |  0.079202343397927   |  0.5087407991587816  |\n",
      "|   8    | 0.07689274447949523  |  0.5652602523659302  |\n",
      "|   9    | 0.07189800210304953  |  0.5935199789695054  |\n",
      "|   10   | 0.07275236593059947  |  0.6693611987381719  |\n",
      "+--------+----------------------+----------------------+\n",
      "[10 rows x 3 columns]\n",
      "\n",
      "\n",
      "Overall RMSE: 0.5668790302202669\n",
      "\n",
      "Per User RMSE (best)\n",
      "+-------------+------+-------+\n",
      "| customer_id | rmse | count |\n",
      "+-------------+------+-------+\n",
      "|     3455    | 0.0  |   1   |\n",
      "+-------------+------+-------+\n",
      "[1 rows x 3 columns]\n",
      "\n",
      "\n",
      "Per User RMSE (worst)\n",
      "+-------------+--------------------+-------+\n",
      "| customer_id |        rmse        | count |\n",
      "+-------------+--------------------+-------+\n",
      "|     5534    | 3.5103151862464186 |   1   |\n",
      "+-------------+--------------------+-------+\n",
      "[1 rows x 3 columns]\n",
      "\n",
      "\n",
      "Per Item RMSE (best)\n",
      "+------------+------+-------+\n",
      "| product_id | rmse | count |\n",
      "+------------+------+-------+\n",
      "| 9672385859 | 0.0  |   12  |\n",
      "+------------+------+-------+\n",
      "[1 rows x 3 columns]\n",
      "\n",
      "\n",
      "Per Item RMSE (worst)\n",
      "+---------------+--------------------+-------+\n",
      "|   product_id  |        rmse        | count |\n",
      "+---------------+--------------------+-------+\n",
      "| 1466096451683 | 1.0802177396836676 |   38  |\n",
      "+---------------+--------------------+-------+\n",
      "[1 rows x 3 columns]\n",
      "\n",
      "PROGRESS: Evaluate model Cosine Similarity with Grouped Data into Bins\n"
     ]
    },
    {
     "data": {
      "text/html": [
       "<pre>recommendations finished on 1000/2536 queries. users per second: 312500</pre>"
      ],
      "text/plain": [
       "recommendations finished on 1000/2536 queries. users per second: 312500"
      ]
     },
     "metadata": {},
     "output_type": "display_data"
    },
    {
     "data": {
      "text/html": [
       "<pre>recommendations finished on 2000/2536 queries. users per second: 326158</pre>"
      ],
      "text/plain": [
       "recommendations finished on 2000/2536 queries. users per second: 326158"
      ]
     },
     "metadata": {},
     "output_type": "display_data"
    },
    {
     "name": "stdout",
     "output_type": "stream",
     "text": [
      "\n",
      "Precision and recall summary statistics by cutoff\n",
      "+--------+---------------------+---------------------+\n",
      "| cutoff |    mean_precision   |     mean_recall     |\n",
      "+--------+---------------------+---------------------+\n",
      "|   1    | 0.30835962145110424 |  0.296004206098843  |\n",
      "|   2    | 0.23935331230283916 | 0.45491587802313355 |\n",
      "|   3    | 0.19045741324921117 |  0.5405494216614095 |\n",
      "|   4    |  0.1594045741324921 |  0.5903654048370152 |\n",
      "|   5    |  0.1638012618296531 |  0.7503943217665611 |\n",
      "|   6    | 0.14550473186119864 |  0.7932439537329112 |\n",
      "|   7    | 0.12916854438936423 |  0.8203864353312298 |\n",
      "|   8    |  0.1146983438485805 |  0.8318874868559405 |\n",
      "|   9    | 0.10418857343147572 |  0.850157728706624  |\n",
      "|   10   | 0.09617507886435334 |  0.8711882229232389 |\n",
      "+--------+---------------------+---------------------+\n",
      "[10 rows x 3 columns]\n",
      "\n",
      "\n",
      "Overall RMSE: 1.4206465534616832\n",
      "\n",
      "Per User RMSE (best)\n",
      "+-------------+---------------------+-------+\n",
      "| customer_id |         rmse        | count |\n",
      "+-------------+---------------------+-------+\n",
      "|     4410    | 0.13822543621063232 |   1   |\n",
      "+-------------+---------------------+-------+\n",
      "[1 rows x 3 columns]\n",
      "\n",
      "\n",
      "Per User RMSE (worst)\n",
      "+-------------+-------------------+-------+\n",
      "| customer_id |        rmse       | count |\n",
      "+-------------+-------------------+-------+\n",
      "|     5534    | 4.991965322494507 |   1   |\n",
      "+-------------+-------------------+-------+\n",
      "[1 rows x 3 columns]\n",
      "\n",
      "\n",
      "Per Item RMSE (best)\n",
      "+------------+--------------------+-------+\n",
      "| product_id |        rmse        | count |\n",
      "+------------+--------------------+-------+\n",
      "| 9672299203 | 0.9181370703663794 |   7   |\n",
      "+------------+--------------------+-------+\n",
      "[1 rows x 3 columns]\n",
      "\n",
      "\n",
      "Per Item RMSE (worst)\n",
      "+---------------+-------------------+-------+\n",
      "|   product_id  |        rmse       | count |\n",
      "+---------------+-------------------+-------+\n",
      "| 1466318520419 | 2.279729422389547 |   39  |\n",
      "+---------------+-------------------+-------+\n",
      "[1 rows x 3 columns]\n",
      "\n"
     ]
    }
   ],
   "source": [
    "test_bins = tc.recommender.util.compare_models(items_bins_test,\n",
    "                                               models_bins,\n",
    "                                               model_names=names_bins)"
   ]
  },
  {
   "cell_type": "code",
   "execution_count": 563,
   "metadata": {},
   "outputs": [
    {
     "name": "stdout",
     "output_type": "stream",
     "text": [
      "PROGRESS: Evaluate model Popularity Model with Constant Quantity\n"
     ]
    },
    {
     "data": {
      "text/html": [
       "<pre>recommendations finished on 1000/2558 queries. users per second: 320000</pre>"
      ],
      "text/plain": [
       "recommendations finished on 1000/2558 queries. users per second: 320000"
      ]
     },
     "metadata": {},
     "output_type": "display_data"
    },
    {
     "data": {
      "text/html": [
       "<pre>recommendations finished on 2000/2558 queries. users per second: 353857</pre>"
      ],
      "text/plain": [
       "recommendations finished on 2000/2558 queries. users per second: 353857"
      ]
     },
     "metadata": {},
     "output_type": "display_data"
    },
    {
     "name": "stdout",
     "output_type": "stream",
     "text": [
      "\n",
      "Precision and recall summary statistics by cutoff\n",
      "+--------+---------------------+---------------------+\n",
      "| cutoff |    mean_precision   |     mean_recall     |\n",
      "+--------+---------------------+---------------------+\n",
      "|   1    | 0.08131352619233796 | 0.07597081052905923 |\n",
      "|   2    | 0.11180609851446452 | 0.20448918425853527 |\n",
      "|   3    | 0.11467292155329668 | 0.31929241594996044 |\n",
      "|   4    | 0.16184519155590285 |  0.5956476413865003 |\n",
      "|   5    | 0.14347146207975014 |  0.660802710450872  |\n",
      "|   6    | 0.12744331508991436 |  0.6985926505082096 |\n",
      "|   7    | 0.12453926058304461 |  0.8015376596299186 |\n",
      "|   8    | 0.11571540265832694 |  0.8423247328642177 |\n",
      "|   9    | 0.10628963600034753 |  0.8694943966640597 |\n",
      "|   10   | 0.09761532447224386 |  0.8881287464164698 |\n",
      "+--------+---------------------+---------------------+\n",
      "[10 rows x 3 columns]\n",
      "\n",
      "\n",
      "Overall RMSE: 0.0\n",
      "\n",
      "Per User RMSE (best)\n",
      "+-------------+------+-------+\n",
      "| customer_id | rmse | count |\n",
      "+-------------+------+-------+\n",
      "|     2936    | 0.0  |   1   |\n",
      "+-------------+------+-------+\n",
      "[1 rows x 3 columns]\n",
      "\n",
      "\n",
      "Per User RMSE (worst)\n",
      "+-------------+------+-------+\n",
      "| customer_id | rmse | count |\n",
      "+-------------+------+-------+\n",
      "|     5288    | 0.0  |   1   |\n",
      "+-------------+------+-------+\n",
      "[1 rows x 3 columns]\n",
      "\n",
      "\n",
      "Per Item RMSE (best)\n",
      "+--------------+------+-------+\n",
      "|  product_id  | rmse | count |\n",
      "+--------------+------+-------+\n",
      "| 844580651014 | 0.0  |   27  |\n",
      "+--------------+------+-------+\n",
      "[1 rows x 3 columns]\n",
      "\n",
      "\n",
      "Per Item RMSE (worst)\n",
      "+------------+------+-------+\n",
      "| product_id | rmse | count |\n",
      "+------------+------+-------+\n",
      "| 9672385859 | 0.0  |   10  |\n",
      "+------------+------+-------+\n",
      "[1 rows x 3 columns]\n",
      "\n",
      "PROGRESS: Evaluate model Cosine Similarity with Constant Quantity\n"
     ]
    },
    {
     "data": {
      "text/html": [
       "<pre>recommendations finished on 1000/2558 queries. users per second: 235128</pre>"
      ],
      "text/plain": [
       "recommendations finished on 1000/2558 queries. users per second: 235128"
      ]
     },
     "metadata": {},
     "output_type": "display_data"
    },
    {
     "data": {
      "text/html": [
       "<pre>recommendations finished on 2000/2558 queries. users per second: 261472</pre>"
      ],
      "text/plain": [
       "recommendations finished on 2000/2558 queries. users per second: 261472"
      ]
     },
     "metadata": {},
     "output_type": "display_data"
    },
    {
     "name": "stdout",
     "output_type": "stream",
     "text": [
      "\n",
      "Precision and recall summary statistics by cutoff\n",
      "+--------+---------------------+--------------------+\n",
      "| cutoff |    mean_precision   |    mean_recall     |\n",
      "+--------+---------------------+--------------------+\n",
      "|   1    |  0.3526192337763882 | 0.3380244983059692 |\n",
      "|   2    |  0.2718921032056292 | 0.5098058378941883 |\n",
      "|   3    | 0.21318738597862943 | 0.6009577795152472 |\n",
      "|   4    |  0.2093432369038307 | 0.7774302840761014 |\n",
      "|   5    | 0.17623143080531642 | 0.8182825123794616 |\n",
      "|   6    |  0.1525931717487623 | 0.8431717487620539 |\n",
      "|   7    |  0.1328046464872111 | 0.8546390409173841 |\n",
      "|   8    | 0.12128616106333068 | 0.8833724263747731 |\n",
      "|   9    | 0.11171922508904517 |  0.91445139431848  |\n",
      "|   10   | 0.10289288506645819 | 0.9362783424550433 |\n",
      "+--------+---------------------+--------------------+\n",
      "[10 rows x 3 columns]\n",
      "\n",
      "\n",
      "Overall RMSE: 0.8785995981722208\n",
      "\n",
      "Per User RMSE (best)\n",
      "+-------------+---------------------+-------+\n",
      "| customer_id |         rmse        | count |\n",
      "+-------------+---------------------+-------+\n",
      "|     1425    | 0.49033188819885254 |   1   |\n",
      "+-------------+---------------------+-------+\n",
      "[1 rows x 3 columns]\n",
      "\n",
      "\n",
      "Per User RMSE (worst)\n",
      "+-------------+------+-------+\n",
      "| customer_id | rmse | count |\n",
      "+-------------+------+-------+\n",
      "|     5288    | 1.0  |   1   |\n",
      "+-------------+------+-------+\n",
      "[1 rows x 3 columns]\n",
      "\n",
      "\n",
      "Per Item RMSE (best)\n",
      "+---------------+--------------------+-------+\n",
      "|   product_id  |        rmse        | count |\n",
      "+---------------+--------------------+-------+\n",
      "| 1466096353379 | 0.7503873256039173 |  112  |\n",
      "+---------------+--------------------+-------+\n",
      "[1 rows x 3 columns]\n",
      "\n",
      "\n",
      "Per Item RMSE (worst)\n",
      "+---------------+------+-------+\n",
      "|   product_id  | rmse | count |\n",
      "+---------------+------+-------+\n",
      "| 1466318520419 | 1.0  |   41  |\n",
      "+---------------+------+-------+\n",
      "[1 rows x 3 columns]\n",
      "\n"
     ]
    }
   ],
   "source": [
    "test_const = tc.recommender.util.compare_models(items_normal_test,\n",
    "                                                     models_const,\n",
    "                                                     model_names=names_const)"
   ]
  },
  {
   "cell_type": "code",
   "execution_count": 572,
   "metadata": {},
   "outputs": [
    {
     "name": "stdout",
     "output_type": "stream",
     "text": [
      "PROGRESS: Evaluate model Popularity Model with Implicit Data\n"
     ]
    },
    {
     "data": {
      "text/html": [
       "<pre>recommendations finished on 1000/2558 queries. users per second: 216779</pre>"
      ],
      "text/plain": [
       "recommendations finished on 1000/2558 queries. users per second: 216779"
      ]
     },
     "metadata": {},
     "output_type": "display_data"
    },
    {
     "data": {
      "text/html": [
       "<pre>recommendations finished on 2000/2558 queries. users per second: 249563</pre>"
      ],
      "text/plain": [
       "recommendations finished on 2000/2558 queries. users per second: 249563"
      ]
     },
     "metadata": {},
     "output_type": "display_data"
    },
    {
     "name": "stderr",
     "output_type": "stream",
     "text": [
      "WARNING:root:Model trained without a target. Skipping RMSE computation.\n"
     ]
    },
    {
     "name": "stdout",
     "output_type": "stream",
     "text": [
      "\n",
      "Precision and recall summary statistics by cutoff\n",
      "+--------+---------------------+---------------------+\n",
      "| cutoff |    mean_precision   |     mean_recall     |\n",
      "+--------+---------------------+---------------------+\n",
      "|   1    | 0.43197810789679514 | 0.39982408131352615 |\n",
      "|   2    |  0.3010164190774044 |  0.5532642689601273 |\n",
      "|   3    |  0.2367735209799323 |  0.6477065415689351 |\n",
      "|   4    | 0.19224003127443293 |  0.6966379984362773 |\n",
      "|   5    | 0.16309616888193895 |  0.7383372426374784 |\n",
      "|   6    | 0.14685952567109764 |  0.8003648683867609 |\n",
      "|   7    | 0.13375404892214907 |  0.8515767526713571 |\n",
      "|   8    | 0.11982017200938229 |  0.8716445139431852 |\n",
      "|   9    | 0.10915645903917993 |  0.8930153765962984 |\n",
      "|   10   | 0.09956997654417517 |  0.9037659629919216 |\n",
      "+--------+---------------------+---------------------+\n",
      "[10 rows x 3 columns]\n",
      "\n",
      "PROGRESS: Evaluate model Cosine Similarity with Implicit Data\n"
     ]
    },
    {
     "data": {
      "text/html": [
       "<pre>recommendations finished on 1000/2558 queries. users per second: 288684</pre>"
      ],
      "text/plain": [
       "recommendations finished on 1000/2558 queries. users per second: 288684"
      ]
     },
     "metadata": {},
     "output_type": "display_data"
    },
    {
     "data": {
      "text/html": [
       "<pre>recommendations finished on 2000/2558 queries. users per second: 315557</pre>"
      ],
      "text/plain": [
       "recommendations finished on 2000/2558 queries. users per second: 315557"
      ]
     },
     "metadata": {},
     "output_type": "display_data"
    },
    {
     "name": "stderr",
     "output_type": "stream",
     "text": [
      "WARNING:root:Model trained without a target. Skipping RMSE computation.\n"
     ]
    },
    {
     "name": "stdout",
     "output_type": "stream",
     "text": [
      "\n",
      "Precision and recall summary statistics by cutoff\n",
      "+--------+---------------------+---------------------+\n",
      "| cutoff |    mean_precision   |     mean_recall     |\n",
      "+--------+---------------------+---------------------+\n",
      "|   1    | 0.34636434714620856 | 0.32577534532186614 |\n",
      "|   2    | 0.26876465989053994 | 0.49755668491008664 |\n",
      "|   3    | 0.21175397445921304 |  0.5836916862131866 |\n",
      "|   4    | 0.20826817826426888 |  0.760164190774042  |\n",
      "|   5    | 0.17951524628616092 |  0.8193249934844931 |\n",
      "|   6    | 0.15604639040917384 |  0.8533359395360964 |\n",
      "|   7    |  0.1367139506310731 |  0.870471722700026  |\n",
      "|   8    | 0.12289874902267414 |  0.8931456867344281 |\n",
      "|   9    | 0.11045956042046716 |  0.9028212144904879 |\n",
      "|   10   | 0.10054730258014068 |  0.9124315871774816 |\n",
      "+--------+---------------------+---------------------+\n",
      "[10 rows x 3 columns]\n",
      "\n"
     ]
    }
   ],
   "source": [
    "test_const = tc.recommender.util.compare_models(items_normal_test,\n",
    "                                                     models_implicit,\n",
    "                                                     model_names=names_implicit)"
   ]
  }
 ],
 "metadata": {
  "kernelspec": {
   "display_name": "Python 3",
   "language": "python",
   "name": "python3"
  },
  "language_info": {
   "codemirror_mode": {
    "name": "ipython",
    "version": 3
   },
   "file_extension": ".py",
   "mimetype": "text/x-python",
   "name": "python",
   "nbconvert_exporter": "python",
   "pygments_lexer": "ipython3",
   "version": "3.6.8"
  }
 },
 "nbformat": 4,
 "nbformat_minor": 2
}
